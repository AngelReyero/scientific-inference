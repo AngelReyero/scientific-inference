{
 "cells": [
  {
   "cell_type": "code",
   "execution_count": 1,
   "metadata": {},
   "outputs": [],
   "source": [
    "import numpy as np\n",
    "from sklearn.base import clone\n",
    "from sklearn.dummy import DummyRegressor\n",
    "from joblib import Parallel, delayed\n",
    "\n",
    "class LOCI:\n",
    "    def __init__(self, estimator, random_state=None, loss=None, n_jobs=1):\n",
    "        self.estimator = estimator\n",
    "        self.random_state = random_state\n",
    "        self.loss = loss\n",
    "        self.n_jobs = n_jobs\n",
    "        self.feature_names_ = None\n",
    "        self.X_train_ = None\n",
    "        self.y_train_ = None\n",
    "\n",
    "    def fit(self, X, y):\n",
    "        self.X_train_ = X\n",
    "        self.y_train_ = y\n",
    "        self.feature_names_ = X.columns\n",
    "        return self\n",
    "\n",
    "    def _score_single_feature(self, j, X_test, y_test, v0):\n",
    "        fname = self.feature_names_[j]\n",
    "        model_j = clone(self.estimator)\n",
    "        model_j.fit(self.X_train_[[fname]], self.y_train_)\n",
    "        preds_j = model_j.predict(X_test[[fname]])\n",
    "        vj = self.loss(y_test, preds_j)\n",
    "        return fname, v0 - vj\n",
    "\n",
    "    def score(self, X_test, y_test):\n",
    "        if self.X_train_ is None:\n",
    "            raise ValueError(\"You must call `fit` before `score`.\")\n",
    "\n",
    "        # Baseline: constant (mean) model\n",
    "        dummy = DummyRegressor(strategy=\"mean\")\n",
    "        dummy.fit(self.X_train_, self.y_train_)\n",
    "        pred_dummy = dummy.predict(np.zeros((len(X_test), 1)))  # doesn't use features\n",
    "        v0 = self.loss(y_test, pred_dummy)\n",
    "\n",
    "        # LOCI: leave-one-covariate-in\n",
    "        results = Parallel(n_jobs=self.n_jobs)(\n",
    "            delayed(self._score_single_feature)(j, X_test, y_test, v0)\n",
    "            for j in range(X_test.shape[1])\n",
    "        )\n",
    "\n",
    "        return dict(results)\n"
   ]
  },
  {
   "cell_type": "code",
   "execution_count": 2,
   "metadata": {},
   "outputs": [
    {
     "name": "stdout",
     "output_type": "stream",
     "text": [
      "LOCI Importances:\n",
      " {'age': -270.82926799915003, 'sex': 27.756080827185542, 'bmi': 1230.2753625796322, 'bp': -23.115972397773476, 's1': -2365.93678873304, 's2': -2575.9084327976316, 's3': 205.40949575640116, 's4': 872.8721525349347, 's5': 1225.332414583554, 's6': 528.2932637845697}\n"
     ]
    }
   ],
   "source": [
    "from sklearn.ensemble import RandomForestRegressor\n",
    "from sklearn.metrics import mean_squared_error\n",
    "from sklearn.datasets import load_diabetes\n",
    "from sklearn.model_selection import train_test_split\n",
    "import pandas as pd\n",
    "\n",
    "# Load dataset\n",
    "data = load_diabetes()\n",
    "X = pd.DataFrame(data.data, columns=data.feature_names)\n",
    "y = data.target\n",
    "X_train, X_test, y_train, y_test = train_test_split(X, y, random_state=42)\n",
    "\n",
    "# Create LOCI object\n",
    "loci = LOCI(\n",
    "    estimator=RandomForestRegressor(random_state=42),\n",
    "    random_state=42,\n",
    "    loss=mean_squared_error,\n",
    "    n_jobs=-1,\n",
    ")\n",
    "\n",
    "loci.fit(X_train, y_train)\n",
    "loci_importance = loci.score(X_test, y_test)\n",
    "\n",
    "print(\"LOCI Importances:\\n\", loci_importance)\n"
   ]
  },
  {
   "cell_type": "code",
   "execution_count": 7,
   "metadata": {},
   "outputs": [
    {
     "data": {
      "text/plain": [
       "array([ -270.829268  ,    27.75608083,  1230.27536258,   -23.1159724 ,\n",
       "       -2365.93678873, -2575.9084328 ,   205.40949576,   872.87215253,\n",
       "        1225.33241458,   528.29326378])"
      ]
     },
     "execution_count": 7,
     "metadata": {},
     "output_type": "execute_result"
    }
   ],
   "source": [
    "np.array(list(loci_importance.values()))"
   ]
  }
 ],
 "metadata": {
  "kernelspec": {
   "display_name": "base",
   "language": "python",
   "name": "python3"
  },
  "language_info": {
   "codemirror_mode": {
    "name": "ipython",
    "version": 3
   },
   "file_extension": ".py",
   "mimetype": "text/x-python",
   "name": "python",
   "nbconvert_exporter": "python",
   "pygments_lexer": "ipython3",
   "version": "3.12.9"
  }
 },
 "nbformat": 4,
 "nbformat_minor": 2
}
